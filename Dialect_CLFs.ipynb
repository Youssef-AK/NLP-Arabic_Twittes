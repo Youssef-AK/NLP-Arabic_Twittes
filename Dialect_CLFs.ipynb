{
 "cells": [
  {
   "cell_type": "markdown",
   "id": "ece80ede",
   "metadata": {
    "tags": []
   },
   "source": [
    "# Setup"
   ]
  },
  {
   "cell_type": "code",
   "execution_count": 67,
   "id": "70464abe",
   "metadata": {},
   "outputs": [],
   "source": [
    "# Read the data\n",
    "import pandas as pd\n",
    "import numpy as np\n",
    "\n",
    "# Visualization\n",
    "import matplotlib.pyplot as plt\n",
    "import seaborn as sns\n",
    "\n",
    "# NLTK\n",
    "# from nltk.tokenize import sent_tokenize, word_tokenize\n",
    "from nltk.corpus import stopwords\n",
    "\n",
    "# Tokenization\n",
    "from nltk.tokenize import sent_tokenize, word_tokenize, WhitespaceTokenizer\n",
    "from nltk.probability import FreqDist\n",
    "\n",
    "from pyarabic.araby import sentence_tokenize, tokenize, is_arabicrange\n",
    "\n",
    "# Preprocessing\n",
    "import re\n",
    "from sklearn.preprocessing import LabelEncoder\n",
    "\n",
    "# Splitting\n",
    "\n",
    "from sklearn.model_selection import train_test_split\n",
    "\n",
    "\n",
    "\n",
    "# Vectorization\n",
    "from sklearn.feature_extraction.text import HashingVectorizer\n",
    "from sklearn.feature_extraction.text import CountVectorizer\n",
    "from sklearn.feature_extraction.text import TfidfVectorizer\n",
    "from sklearn.feature_extraction.text import TfidfTransformer\n",
    "\n",
    "\n",
    "# Modeling\n",
    "from sklearn.naive_bayes import MultinomialNB, CategoricalNB, GaussianNB\n",
    "from sklearn.multiclass import OneVsRestClassifier\n",
    "from sklearn.ensemble import RandomForestClassifier\n",
    "from sklearn.linear_model import SGDClassifier\n",
    "\n",
    "# Evaluation\n",
    "from sklearn import metrics\n",
    "from sklearn.metrics import accuracy_score, precision_score,recall_score\n",
    "\n",
    "import warnings\n",
    "warnings.filterwarnings('ignore')\n",
    "\n",
    "%matplotlib inline\n",
    "\n",
    "# for reproducibility purposes\n",
    "seed = 44"
   ]
  },
  {
   "cell_type": "markdown",
   "id": "b9e6f7e0",
   "metadata": {
    "tags": []
   },
   "source": [
    "# Read Dialect Twittes Dataset"
   ]
  },
  {
   "cell_type": "code",
   "execution_count": 68,
   "id": "3fb9a5a0",
   "metadata": {},
   "outputs": [
    {
     "data": {
      "text/html": [
       "<div>\n",
       "<style scoped>\n",
       "    .dataframe tbody tr th:only-of-type {\n",
       "        vertical-align: middle;\n",
       "    }\n",
       "\n",
       "    .dataframe tbody tr th {\n",
       "        vertical-align: top;\n",
       "    }\n",
       "\n",
       "    .dataframe thead th {\n",
       "        text-align: right;\n",
       "    }\n",
       "</style>\n",
       "<table border=\"1\" class=\"dataframe\">\n",
       "  <thead>\n",
       "    <tr style=\"text-align: right;\">\n",
       "      <th></th>\n",
       "      <th>id</th>\n",
       "      <th>dialect</th>\n",
       "      <th>Twittes</th>\n",
       "    </tr>\n",
       "  </thead>\n",
       "  <tbody>\n",
       "    <tr>\n",
       "      <th>0</th>\n",
       "      <td>1175358310087892992</td>\n",
       "      <td>IQ</td>\n",
       "      <td>@Nw8ieJUwaCAAreT لكن بالنهاية .. ينتفض .. يغير .</td>\n",
       "    </tr>\n",
       "    <tr>\n",
       "      <th>1</th>\n",
       "      <td>1175416117793349632</td>\n",
       "      <td>IQ</td>\n",
       "      <td>@7zNqXP0yrODdRjK يعني هذا محسوب على البشر .. ح...</td>\n",
       "    </tr>\n",
       "    <tr>\n",
       "      <th>2</th>\n",
       "      <td>1175450108898565888</td>\n",
       "      <td>IQ</td>\n",
       "      <td>@KanaanRema مبين من كلامه خليجي</td>\n",
       "    </tr>\n",
       "    <tr>\n",
       "      <th>3</th>\n",
       "      <td>1175471073770573824</td>\n",
       "      <td>IQ</td>\n",
       "      <td>@HAIDER76128900 يسلملي مرورك وروحك الحلوه💐</td>\n",
       "    </tr>\n",
       "    <tr>\n",
       "      <th>4</th>\n",
       "      <td>1175496913145217024</td>\n",
       "      <td>IQ</td>\n",
       "      <td>@hmo2406 وين هل الغيبه  اخ محمد 🌸🌺</td>\n",
       "    </tr>\n",
       "  </tbody>\n",
       "</table>\n",
       "</div>"
      ],
      "text/plain": [
       "                    id dialect  \\\n",
       "0  1175358310087892992      IQ   \n",
       "1  1175416117793349632      IQ   \n",
       "2  1175450108898565888      IQ   \n",
       "3  1175471073770573824      IQ   \n",
       "4  1175496913145217024      IQ   \n",
       "\n",
       "                                             Twittes  \n",
       "0   @Nw8ieJUwaCAAreT لكن بالنهاية .. ينتفض .. يغير .  \n",
       "1  @7zNqXP0yrODdRjK يعني هذا محسوب على البشر .. ح...  \n",
       "2                    @KanaanRema مبين من كلامه خليجي  \n",
       "3         @HAIDER76128900 يسلملي مرورك وروحك الحلوه💐  \n",
       "4                 @hmo2406 وين هل الغيبه  اخ محمد 🌸🌺  "
      ]
     },
     "execution_count": 68,
     "metadata": {},
     "output_type": "execute_result"
    }
   ],
   "source": [
    "dfTw = pd.read_csv('dialect_dataset_with_twittes.csv')\n",
    "\n",
    "dfTw.head()"
   ]
  },
  {
   "cell_type": "markdown",
   "id": "41df8823",
   "metadata": {},
   "source": [
    "## EDA"
   ]
  },
  {
   "cell_type": "code",
   "execution_count": 69,
   "id": "a80f9a33",
   "metadata": {},
   "outputs": [
    {
     "name": "stdout",
     "output_type": "stream",
     "text": [
      "<class 'pandas.core.frame.DataFrame'>\n",
      "RangeIndex: 458197 entries, 0 to 458196\n",
      "Data columns (total 3 columns):\n",
      " #   Column   Non-Null Count   Dtype \n",
      "---  ------   --------------   ----- \n",
      " 0   id       458197 non-null  int64 \n",
      " 1   dialect  458197 non-null  object\n",
      " 2   Twittes  458197 non-null  object\n",
      "dtypes: int64(1), object(2)\n",
      "memory usage: 10.5+ MB\n"
     ]
    }
   ],
   "source": [
    "# Get some Information about our DataFrame.\n",
    "dfTw.info()"
   ]
  },
  {
   "cell_type": "markdown",
   "id": "ce270a2c",
   "metadata": {},
   "source": [
    "By observing the above data, we can conclude :\n",
    "- id is int\n",
    "- dialect/Twittes is object\n",
    "- All the columns are non-null (no-empty or missing value)."
   ]
  },
  {
   "cell_type": "code",
   "execution_count": 70,
   "id": "19d9b011",
   "metadata": {},
   "outputs": [
    {
     "data": {
      "text/plain": [
       "id         0\n",
       "dialect    0\n",
       "Twittes    0\n",
       "dtype: int64"
      ]
     },
     "execution_count": 70,
     "metadata": {},
     "output_type": "execute_result"
    }
   ],
   "source": [
    "# Another check Nulls for each column\n",
    "dfTw.isnull().sum()"
   ]
  },
  {
   "cell_type": "code",
   "execution_count": 71,
   "id": "d2060f4e",
   "metadata": {},
   "outputs": [
    {
     "data": {
      "text/plain": [
       "(458197, 3)"
      ]
     },
     "execution_count": 71,
     "metadata": {},
     "output_type": "execute_result"
    }
   ],
   "source": [
    "# Check the shape of our dataframe\n",
    "dfTw.shape"
   ]
  },
  {
   "cell_type": "code",
   "execution_count": 72,
   "id": "710aa0e3",
   "metadata": {},
   "outputs": [
    {
     "name": "stdout",
     "output_type": "stream",
     "text": [
      "['IQ' 'LY' 'QA' 'PL' 'SY' 'TN' 'JO' 'MA' 'SA' 'YE' 'DZ' 'EG' 'LB' 'KW'\n",
      " 'OM' 'SD' 'AE' 'BH'] \n",
      "\n",
      " Number of Dialects >>  18\n"
     ]
    }
   ],
   "source": [
    "# Check our dialects and their numbers\n",
    "print(dfTw.dialect.unique(),'\\n\\n Number of Dialects >> ', dfTw.dialect.nunique())"
   ]
  },
  {
   "cell_type": "code",
   "execution_count": 73,
   "id": "a724ffab",
   "metadata": {},
   "outputs": [
    {
     "data": {
      "text/plain": [
       "EG    57636\n",
       "PL    43742\n",
       "KW    42109\n",
       "LY    36499\n",
       "QA    31069\n",
       "JO    27921\n",
       "LB    27617\n",
       "SA    26832\n",
       "AE    26296\n",
       "BH    26292\n",
       "OM    19116\n",
       "SY    16242\n",
       "DZ    16183\n",
       "IQ    15497\n",
       "SD    14434\n",
       "MA    11539\n",
       "YE     9927\n",
       "TN     9246\n",
       "Name: dialect, dtype: int64"
      ]
     },
     "execution_count": 73,
     "metadata": {},
     "output_type": "execute_result"
    }
   ],
   "source": [
    "# Check number of samples for each dialect\n",
    "dfTw.dialect.value_counts()"
   ]
  },
  {
   "cell_type": "markdown",
   "id": "1284a0e8",
   "metadata": {},
   "source": [
    "#### Notice : There is Unbalance in our dialects. :( "
   ]
  },
  {
   "cell_type": "code",
   "execution_count": 79,
   "id": "06201288",
   "metadata": {},
   "outputs": [
    {
     "data": {
      "image/png": "[encoded data removed]",
      "text/plain": [
       "<Figure size 1008x432 with 1 Axes>"
      ]
     },
     "metadata": {
      "needs_background": "light"
     },
     "output_type": "display_data"
    }
   ],
   "source": [
    "# Display Unbalanced data in dialects \n",
    "plt.figure(figsize = (14,6))\n",
    "sns.countplot(x = dfTw.dialect, palette = sns.color_palette(\"flare\"), data =dfTw)\n",
    "plt.savefig('dialects.png')\n",
    "plt.show()"
   ]
  },
  {
   "cell_type": "code",
   "execution_count": 75,
   "id": "9ae1bc90",
   "metadata": {},
   "outputs": [
    {
     "name": "stdout",
     "output_type": "stream",
     "text": [
      "Number of duplicate rows:  (0, 3)\n"
     ]
    }
   ],
   "source": [
    "# Check rows containing duplicate data\n",
    "duplic_rows = dfTw[dfTw.duplicated()]\n",
    "\n",
    "print('Number of duplicate rows: ', duplic_rows.shape)"
   ]
  },
  {
   "cell_type": "markdown",
   "id": "1296edf6",
   "metadata": {},
   "source": [
    "##### No duplicate rows"
   ]
  },
  {
   "cell_type": "markdown",
   "id": "3504badf",
   "metadata": {
    "jp-MarkdownHeadingCollapsed": true,
    "tags": []
   },
   "source": [
    "# Pre-processing"
   ]
  },
  {
   "cell_type": "code",
   "execution_count": 10,
   "id": "0a4a9b0e",
   "metadata": {},
   "outputs": [],
   "source": [
    "# adapted from https://github.com/bakrianoo/aravec\n",
    "\n",
    "# function to clean and normalize text \n",
    "def clean_text(text):\n",
    "    search = [\"أ\",\"إ\",\"آ\",\"ة\",\"_\",\"-\",\"/\",\".\",\"،\",\" و \",\" يا \",'\"',\"ـ\",\"'\",\"ى\",\"\\\\\",'\\n', '\\t','&quot;','?','؟','!']\n",
    "    replace = [\"ا\",\"ا\",\"ا\",\"ه\",\" \",\" \",\"\",\"\",\"\",\" و\",\" يا\",\"\",\"\",\"\",\"ي\",\"\",' ', ' ',' ',' ? ',' ؟ ',' ! ']  \n",
    "    p_tashkeel = re.compile(r'[\\u0617-\\u061A\\u064B-\\u0652]')\n",
    "    text = re.sub(p_tashkeel,\"\", text)\n",
    "    text = re.sub('([@A-Za-z0-9_]+)|[^\\w\\s]', '', text)\n",
    "    p_longation = re.compile(r'(.)\\1+')\n",
    "    subst = r\"\\1\\1\"\n",
    "    text = re.sub(p_longation, subst, text)\n",
    "    text = text.replace('وو', 'و')\n",
    "    text = text.replace('يي', 'ي')\n",
    "    text = text.replace('اا', 'ا')\n",
    "    \n",
    "    for i in range(0, len(search)):\n",
    "        text = text.replace(search[i], replace[i])\n",
    "        \n",
    "    text = text.strip()\n",
    "    \n",
    "    return text"
   ]
  },
  {
   "cell_type": "code",
   "execution_count": 11,
   "id": "104f378b",
   "metadata": {},
   "outputs": [
    {
     "name": "stdout",
     "output_type": "stream",
     "text": [
      "0    @Nw8ieJUwaCAAreT لكن بالنهاية .. ينتفض .. يغير .\n",
      "Name: Twittes, dtype: object\n",
      "\n",
      "----------------------------\n",
      "\n"
     ]
    },
    {
     "data": {
      "text/plain": [
       "0    لكن بالنهايه  ينتفض  يغير\n",
       "Name: Twittes, dtype: object"
      ]
     },
     "execution_count": 11,
     "metadata": {},
     "output_type": "execute_result"
    }
   ],
   "source": [
    "# Check the difference before - after cleaning\n",
    "print(str(dfTw['Twittes'][0:1]))\n",
    "print('\\n----------------------------\\n')\n",
    "dfTw['Twittes'][0:1] = clean_text(str(dfTw['Twittes'][0:1]))\n",
    "dfTw['Twittes'][0:1]"
   ]
  },
  {
   "cell_type": "code",
   "execution_count": 12,
   "id": "a370c4bf",
   "metadata": {},
   "outputs": [],
   "source": [
    "# Simple for-loop to feed twittes after cleaning to list\n",
    "clean_twittes = []\n",
    "\n",
    "for i in dfTw['Twittes'] :\n",
    "    i = clean_text(str(i))\n",
    "    clean_twittes.append(i)"
   ]
  },
  {
   "cell_type": "code",
   "execution_count": 13,
   "id": "db86449b",
   "metadata": {},
   "outputs": [
    {
     "data": {
      "text/plain": [
       "['لكن بالنهايه  ينتفض  يغير',\n",
       " 'يعني هذا محسوب علي البشر  حيونه وحشيه  وتطلبون من الغرب يحترمكم ويؤمن بدينكم ولاينعتكم بالارهاب',\n",
       " 'مبين من كلامه خليجي',\n",
       " 'يسلملي مرورك وروحك الحلوه',\n",
       " 'وين هل الغيبه  اخ محمد']"
      ]
     },
     "execution_count": 13,
     "metadata": {},
     "output_type": "execute_result"
    }
   ],
   "source": [
    "clean_twittes[0:5]"
   ]
  },
  {
   "cell_type": "code",
   "execution_count": 14,
   "id": "285db329",
   "metadata": {},
   "outputs": [
    {
     "data": {
      "text/plain": [
       "0                            لكن بالنهايه  ينتفض  يغير\n",
       "1    يعني هذا محسوب علي البشر  حيونه وحشيه  وتطلبون...\n",
       "2                                  مبين من كلامه خليجي\n",
       "3                            يسلملي مرورك وروحك الحلوه\n",
       "4                               وين هل الغيبه  اخ محمد\n",
       "Name: twittes, dtype: object"
      ]
     },
     "execution_count": 14,
     "metadata": {},
     "output_type": "execute_result"
    }
   ],
   "source": [
    "# Append clean list to our DataFrame \n",
    "dfTw['twittes'] = clean_twittes\n",
    "dfTw['twittes'].head()"
   ]
  },
  {
   "cell_type": "code",
   "execution_count": 15,
   "id": "c33d53b1",
   "metadata": {},
   "outputs": [],
   "source": [
    "# Transform Dialects into numeric format as labels\n",
    "\n",
    "le = LabelEncoder()\n",
    "dfTw['dialect'] = le.fit_transform(dfTw['dialect'])"
   ]
  },
  {
   "cell_type": "code",
   "execution_count": 16,
   "id": "0fcd5f83",
   "metadata": {
    "scrolled": true
   },
   "outputs": [
    {
     "data": {
      "text/plain": [
       "array([ 4,  8, 12, 11, 15, 16,  5,  9, 13, 17,  2,  3,  7,  6, 10, 14,  0,\n",
       "        1])"
      ]
     },
     "execution_count": 16,
     "metadata": {},
     "output_type": "execute_result"
    }
   ],
   "source": [
    "# Check unique labels \n",
    "dfTw.dialect.unique()"
   ]
  },
  {
   "cell_type": "markdown",
   "id": "76b60544-247a-40a7-bd26-85e635687630",
   "metadata": {},
   "source": [
    "## Tokenization with Word"
   ]
  },
  {
   "cell_type": "code",
   "execution_count": 17,
   "id": "32540a0a-e21c-48bc-a319-33eda439bcb5",
   "metadata": {},
   "outputs": [
    {
     "data": {
      "text/plain": [
       "0                         [لكن, بالنهايه, ينتفض, يغير]\n",
       "1    [يعني, هذا, محسوب, علي, البشر, حيونه, وحشيه, و...\n",
       "2                             [مبين, من, كلامه, خليجي]\n",
       "3                       [يسلملي, مرورك, وروحك, الحلوه]\n",
       "4                          [وين, هل, الغيبه, اخ, محمد]\n",
       "Name: twittes, dtype: object"
      ]
     },
     "execution_count": 17,
     "metadata": {},
     "output_type": "execute_result"
    }
   ],
   "source": [
    "dfTw['twittes'] = dfTw['twittes'].apply(lambda x : tokenize(str(x), conditions=is_arabicrange))\n",
    "dfTw['twittes'].head()"
   ]
  },
  {
   "cell_type": "code",
   "execution_count": 18,
   "id": "69daaf32-4541-415f-9438-9c23746a7edb",
   "metadata": {},
   "outputs": [],
   "source": [
    "# Tokenization with Sentences.\n",
    "\n",
    "# dfTw['twittes'] = dfTw['twittes'].apply(lambda x : sentence_tokenize(str(x)))\n",
    "# dfTw['twittes'].head()"
   ]
  },
  {
   "cell_type": "markdown",
   "id": "e4f0eb0f-0f4d-4729-b71e-e9945b671003",
   "metadata": {},
   "source": [
    "### Remove Stop Words"
   ]
  },
  {
   "cell_type": "code",
   "execution_count": 19,
   "id": "a16aa29d-ed0f-454c-8493-8230ec801638",
   "metadata": {},
   "outputs": [],
   "source": [
    "# stopWords = open(\"list.txt\", encoding=\"utf8\").read()\n",
    "\n",
    "stopWords = set(stopwords.words('arabic'))\n"
   ]
  },
  {
   "cell_type": "code",
   "execution_count": 20,
   "id": "77247e42",
   "metadata": {},
   "outputs": [
    {
     "name": "stdout",
     "output_type": "stream",
     "text": [
      "['بالنهايه', 'ينتفض', 'يغير', 'يعني', 'محسوب', 'علي', 'البشر', 'حيونه', 'وحشيه', 'مبين', 'كلامه', 'خليجي', 'يسلملي', 'مرورك', 'وروحك', 'الحلوه', 'وين', 'الغيبه', 'اخ', 'محمد', 'مبسوطين', 'منك', 'اللي', 'باسطانا', 'والله', 'ماينده', 'ابش', 'يختي', 'شو', 'عملنا', 'حنا', 'تهربي', 'مننا', 'احنا', 'مساكين', 'الله', 'يبارك', 'وبالعافيه', 'السحله', 'ضيفي', 'بتطلع', 'سحليه']\n"
     ]
    }
   ],
   "source": [
    "# Tokenize our Twittes \n",
    "words_ = tokenize(str(dfTw['twittes']), conditions=is_arabicrange)\n",
    "\n",
    "# Check words are not in our stopWords\n",
    "wordsFiltered = []\n",
    "for w in words_:\n",
    "    if w not in stopWords:\n",
    "        wordsFiltered.append(w)\n",
    "\n",
    "print(wordsFiltered)"
   ]
  },
  {
   "cell_type": "code",
   "execution_count": 21,
   "id": "8a3f4d3d",
   "metadata": {},
   "outputs": [
    {
     "name": "stdout",
     "output_type": "stream",
     "text": [
      "42\n",
      "701\n"
     ]
    }
   ],
   "source": [
    "# Check number of wordsFiltered vs. stopWords\n",
    "print(len(wordsFiltered)) ; print(len(stopWords))"
   ]
  },
  {
   "cell_type": "code",
   "execution_count": 22,
   "id": "78b81c4e-39ee-4795-8d0b-3996eb051d0f",
   "metadata": {},
   "outputs": [
    {
     "data": {
      "text/plain": [
       "0                              [بالنهايه, ينتفض, يغير]\n",
       "1    [يعني, محسوب, علي, البشر, حيونه, وحشيه, وتطلبو...\n",
       "2                                 [مبين, كلامه, خليجي]\n",
       "3                       [يسلملي, مرورك, وروحك, الحلوه]\n",
       "4                              [وين, الغيبه, اخ, محمد]\n",
       "Name: twittes, dtype: object"
      ]
     },
     "execution_count": 22,
     "metadata": {},
     "output_type": "execute_result"
    }
   ],
   "source": [
    "dfTw['twittes'] = dfTw['twittes'].apply(lambda x: [item for item in x if item not in stopWords])\n",
    "dfTw['twittes'].head()"
   ]
  },
  {
   "cell_type": "code",
   "execution_count": 23,
   "id": "b47de6ab",
   "metadata": {
    "tags": []
   },
   "outputs": [
    {
     "data": {
      "text/html": [
       "<div>\n",
       "<style scoped>\n",
       "    .dataframe tbody tr th:only-of-type {\n",
       "        vertical-align: middle;\n",
       "    }\n",
       "\n",
       "    .dataframe tbody tr th {\n",
       "        vertical-align: top;\n",
       "    }\n",
       "\n",
       "    .dataframe thead th {\n",
       "        text-align: right;\n",
       "    }\n",
       "</style>\n",
       "<table border=\"1\" class=\"dataframe\">\n",
       "  <thead>\n",
       "    <tr style=\"text-align: right;\">\n",
       "      <th></th>\n",
       "      <th>id</th>\n",
       "      <th>dialect</th>\n",
       "      <th>twittes</th>\n",
       "    </tr>\n",
       "  </thead>\n",
       "  <tbody>\n",
       "    <tr>\n",
       "      <th>0</th>\n",
       "      <td>1175358310087892992</td>\n",
       "      <td>4</td>\n",
       "      <td>[بالنهايه, ينتفض, يغير]</td>\n",
       "    </tr>\n",
       "    <tr>\n",
       "      <th>1</th>\n",
       "      <td>1175416117793349632</td>\n",
       "      <td>4</td>\n",
       "      <td>[يعني, محسوب, علي, البشر, حيونه, وحشيه, وتطلبو...</td>\n",
       "    </tr>\n",
       "    <tr>\n",
       "      <th>2</th>\n",
       "      <td>1175450108898565888</td>\n",
       "      <td>4</td>\n",
       "      <td>[مبين, كلامه, خليجي]</td>\n",
       "    </tr>\n",
       "    <tr>\n",
       "      <th>3</th>\n",
       "      <td>1175471073770573824</td>\n",
       "      <td>4</td>\n",
       "      <td>[يسلملي, مرورك, وروحك, الحلوه]</td>\n",
       "    </tr>\n",
       "    <tr>\n",
       "      <th>4</th>\n",
       "      <td>1175496913145217024</td>\n",
       "      <td>4</td>\n",
       "      <td>[وين, الغيبه, اخ, محمد]</td>\n",
       "    </tr>\n",
       "  </tbody>\n",
       "</table>\n",
       "</div>"
      ],
      "text/plain": [
       "                    id  dialect  \\\n",
       "0  1175358310087892992        4   \n",
       "1  1175416117793349632        4   \n",
       "2  1175450108898565888        4   \n",
       "3  1175471073770573824        4   \n",
       "4  1175496913145217024        4   \n",
       "\n",
       "                                             twittes  \n",
       "0                            [بالنهايه, ينتفض, يغير]  \n",
       "1  [يعني, محسوب, علي, البشر, حيونه, وحشيه, وتطلبو...  \n",
       "2                               [مبين, كلامه, خليجي]  \n",
       "3                     [يسلملي, مرورك, وروحك, الحلوه]  \n",
       "4                            [وين, الغيبه, اخ, محمد]  "
      ]
     },
     "execution_count": 23,
     "metadata": {},
     "output_type": "execute_result"
    }
   ],
   "source": [
    "# Remove unclean Twittes Column from our DataFrame\n",
    "dfTw.drop('Twittes', axis= 1, inplace= True)\n",
    "dfTw.head()"
   ]
  },
  {
   "cell_type": "markdown",
   "id": "01ec0c16",
   "metadata": {},
   "source": [
    "### Frequency Distributions"
   ]
  },
  {
   "cell_type": "code",
   "execution_count": 24,
   "id": "d7b89548",
   "metadata": {},
   "outputs": [],
   "source": [
    "word_tokens = FreqDist(word for sent in dfTw[\"twittes\"] for word in sent)"
   ]
  },
  {
   "cell_type": "code",
   "execution_count": 25,
   "id": "ae3d35bc",
   "metadata": {},
   "outputs": [
    {
     "name": "stdout",
     "output_type": "stream",
     "text": [
      "<FreqDist with 455686 samples and 5099071 outcomes>\n"
     ]
    }
   ],
   "source": [
    "freq_dist = FreqDist(word_tokens)\n",
    "\n",
    "print(freq_dist)\n",
    "\n",
    "# OUTPUT:  Vocabulary -- Total Wards"
   ]
  },
  {
   "cell_type": "code",
   "execution_count": 26,
   "id": "6af4f29a",
   "metadata": {},
   "outputs": [
    {
     "data": {
      "text/plain": [
       "515"
      ]
     },
     "execution_count": 26,
     "metadata": {},
     "output_type": "execute_result"
    }
   ],
   "source": [
    "# Check frequent words based on FreqDist\n",
    "frequent_words = []\n",
    "\n",
    "for key, value in freq_dist.items():\n",
    "    if value >= 1000:\n",
    "        frequent_words.append(key.lower())\n",
    "        \n",
    "len(frequent_words)"
   ]
  },
  {
   "cell_type": "code",
   "execution_count": 27,
   "id": "acf47091",
   "metadata": {},
   "outputs": [
    {
     "data": {
      "text/plain": [
       "['يعني',\n",
       " 'علي',\n",
       " 'وين',\n",
       " 'محمد',\n",
       " 'ياخي',\n",
       " 'اذا',\n",
       " 'المشكله',\n",
       " 'الله',\n",
       " 'عنك',\n",
       " 'العرب',\n",
       " 'ابو',\n",
       " 'اللي',\n",
       " 'خلص',\n",
       " 'والله',\n",
       " 'انا',\n",
       " 'شيء',\n",
       " 'معه',\n",
       " 'بالعكس',\n",
       " 'فيهم',\n",
       " 'يمكن']"
      ]
     },
     "execution_count": 27,
     "metadata": {},
     "output_type": "execute_result"
    }
   ],
   "source": [
    "frequent_words[:20]"
   ]
  },
  {
   "cell_type": "code",
   "execution_count": 28,
   "id": "4155a4e0",
   "metadata": {},
   "outputs": [
    {
     "data": {
      "text/plain": [
       "[('اللي', 64183),\n",
       " ('علي', 56800),\n",
       " ('الله', 48396),\n",
       " ('انا', 35801),\n",
       " ('مش', 30527),\n",
       " ('والله', 25618),\n",
       " ('هه', 21310),\n",
       " ('ان', 19958),\n",
       " ('شي', 19552),\n",
       " ('انت', 18246),\n",
       " ('الي', 15202),\n",
       " ('او', 14474),\n",
       " ('يعني', 13825),\n",
       " ('عشان', 13341),\n",
       " ('الناس', 13297),\n",
       " ('اي', 13202),\n",
       " ('اذا', 13177),\n",
       " ('مو', 11883),\n",
       " ('حتي', 11755),\n",
       " ('انه', 11162)]"
      ]
     },
     "execution_count": 28,
     "metadata": {},
     "output_type": "execute_result"
    }
   ],
   "source": [
    "freq_dist.most_common(20)"
   ]
  },
  {
   "cell_type": "code",
   "execution_count": 29,
   "id": "b822d772",
   "metadata": {},
   "outputs": [
    {
     "data": {
      "text/plain": [
       "0.009491140641108939"
      ]
     },
     "execution_count": 29,
     "metadata": {},
     "output_type": "execute_result"
    }
   ],
   "source": [
    "# Return the frequency of a given word in the range [0, 1]\n",
    "freq_dist.freq('الله')"
   ]
  },
  {
   "cell_type": "code",
   "execution_count": 30,
   "id": "4e8fa8de",
   "metadata": {},
   "outputs": [
    {
     "data": {
      "image/png": "[encoded data removed]",
      "text/plain": [
       "<Figure size 864x576 with 1 Axes>"
      ]
     },
     "metadata": {
      "needs_background": "light"
     },
     "output_type": "display_data"
    }
   ],
   "source": [
    "# Display 20 most common words\n",
    "fig, ax = plt.subplots(figsize=(12, 8))\n",
    "\n",
    "freq_dist.plot(20, cumulative=False)\n",
    "\n",
    "plt.show()"
   ]
  },
  {
   "cell_type": "markdown",
   "id": "dfa672fb-ae68-4056-9af7-4c71abce6486",
   "metadata": {
    "tags": []
   },
   "source": [
    "# Modeling"
   ]
  },
  {
   "cell_type": "code",
   "execution_count": 35,
   "id": "8483d4e5-415d-44b6-ac57-eb15d6bb8301",
   "metadata": {},
   "outputs": [],
   "source": [
    "# Function to simplify measuring.\n",
    "def summarize_clf(y_test, pred):\n",
    "\n",
    "    acc = accuracy_score(y_test, pred, normalize=True)\n",
    "    num_acc = accuracy_score(y_test, pred, normalize=False)\n",
    "    prec = precision_score(y_test, pred, average='weighted')\n",
    "    recall = recall_score(y_test, pred, average='weighted')\n",
    "    \n",
    "    print(\"Length of testing data: \", len(y_test))\n",
    "    print(\"accuracy_count : \" , num_acc)\n",
    "    print(\"accuracy_score : \" , acc)\n",
    "    print(\"precision_score : \" , prec)\n",
    "    print(\"recall_score : \", recall)"
   ]
  },
  {
   "cell_type": "code",
   "execution_count": 40,
   "id": "bbeb8d25-85a0-4fbf-98e5-3fc6d6e16b70",
   "metadata": {},
   "outputs": [],
   "source": [
    "# data after \n",
    "X = dfTw.twittes\n",
    "y = dfTw.dialect\n",
    "\n",
    "X = X.astype('str')"
   ]
  },
  {
   "cell_type": "code",
   "execution_count": 41,
   "id": "bcedc8b7-8676-4eb9-a110-164fc5c3dd3d",
   "metadata": {},
   "outputs": [
    {
     "data": {
      "text/plain": [
       "0"
      ]
     },
     "execution_count": 41,
     "metadata": {},
     "output_type": "execute_result"
    }
   ],
   "source": [
    "X.isnull().sum()"
   ]
  },
  {
   "cell_type": "code",
   "execution_count": 42,
   "id": "231d4ef2-d0d9-4848-9634-8e2c46f27bd3",
   "metadata": {},
   "outputs": [],
   "source": [
    "# Create training and test sets\n",
    "X_train, X_test, y_train, y_test = train_test_split(X, y, test_size= .2, random_state= seed)"
   ]
  },
  {
   "cell_type": "code",
   "execution_count": 43,
   "id": "ef694027-92d1-4306-a0fe-8ac09e30e045",
   "metadata": {},
   "outputs": [
    {
     "data": {
      "text/plain": [
       "114855    ['مش', 'الهندسه', 'الكليات', 'واغلب', 'الجامعا...\n",
       "68134     ['ٱمسيت', 'ٱبيھہ', 'ۆ', 'قلبيے', 'لھہ', 'مشتٱق...\n",
       "286379    ['نقول', 'علي', 'الغلط', 'ده', 'غلط', 'يبقي', ...\n",
       "Name: twittes, dtype: object"
      ]
     },
     "execution_count": 43,
     "metadata": {},
     "output_type": "execute_result"
    }
   ],
   "source": [
    "X_train[:3]"
   ]
  },
  {
   "cell_type": "markdown",
   "id": "fd10754f-9ea5-43d7-b62c-b9cadab39e81",
   "metadata": {},
   "source": [
    "## CountVectorizer"
   ]
  },
  {
   "cell_type": "code",
   "execution_count": 44,
   "id": "8f80c1f0-c3e1-407e-a339-98bbdc8fd0bb",
   "metadata": {},
   "outputs": [],
   "source": [
    "# Initialize a CountVectorizer object: count_vectorizer\n",
    "count_vectorizer = CountVectorizer(stop_words= stopWords)"
   ]
  },
  {
   "cell_type": "code",
   "execution_count": 45,
   "id": "628b5303-2294-4bfc-8e23-51348ee12648",
   "metadata": {
    "tags": []
   },
   "outputs": [],
   "source": [
    "# Transform the training data using only the 'text' column values: count_train \n",
    "count_train = count_vectorizer.fit_transform(X_train.values)"
   ]
  },
  {
   "cell_type": "code",
   "execution_count": 46,
   "id": "5e51d35b-ff16-4af9-8cb3-3771c433f0d2",
   "metadata": {
    "tags": []
   },
   "outputs": [],
   "source": [
    "# Transform the test data using only the 'text' column values: count_test \n",
    "count_test = count_vectorizer.transform(X_test.values)"
   ]
  },
  {
   "cell_type": "code",
   "execution_count": 47,
   "id": "f308d00f-2e02-4674-a907-9d34d3096afc",
   "metadata": {
    "tags": []
   },
   "outputs": [
    {
     "name": "stdout",
     "output_type": "stream",
     "text": [
      "['ءء', 'ءاتها', 'ءاتيه', 'ءادم', 'ءالوجع', 'ءرءتو', 'ءلي', 'ءمن', 'ءناهه', 'ءه']\n"
     ]
    }
   ],
   "source": [
    "# Print the first 10 features of the count_vectorizer\n",
    "print(count_vectorizer.get_feature_names()[:10])"
   ]
  },
  {
   "cell_type": "markdown",
   "id": "64ab9abd-4da9-4a73-bc19-07952d6d40e3",
   "metadata": {
    "tags": []
   },
   "source": [
    "## TF-IDF Vectorizer"
   ]
  },
  {
   "cell_type": "code",
   "execution_count": 48,
   "id": "c90e3e1e-1f19-4659-b8d4-f5104859184b",
   "metadata": {},
   "outputs": [],
   "source": [
    "# Initialize a TfidfVectorizer object: tfidf_vectorizer\n",
    "tfidf_vectorizer = TfidfVectorizer(stop_words= stopWords, max_df= 0.7)"
   ]
  },
  {
   "cell_type": "code",
   "execution_count": 49,
   "id": "7a584ea6-3091-473a-8fda-0cceb2c912e5",
   "metadata": {},
   "outputs": [
    {
     "name": "stdout",
     "output_type": "stream",
     "text": [
      "['ءء', 'ءاتها', 'ءاتيه', 'ءادم', 'ءالوجع', 'ءرءتو', 'ءلي', 'ءمن', 'ءناهه', 'ءه']\n"
     ]
    }
   ],
   "source": [
    "# Transform the training data: tfidf_train \n",
    "tfidf_train = tfidf_vectorizer.fit_transform(X_train.values)\n",
    "\n",
    "# Transform the test data: tfidf_test \n",
    "tfidf_test = tfidf_vectorizer.transform(X_test.values)\n",
    "\n",
    "# Print the first 10 features\n",
    "print(tfidf_vectorizer.get_feature_names()[:10])\n"
   ]
  },
  {
   "cell_type": "markdown",
   "id": "a73df8d7-ad37-41f8-bf7f-755d41831a94",
   "metadata": {
    "tags": []
   },
   "source": [
    "# Naive Bayes Models..\n",
    "#### Train Multi Naive-Bayes Model With Count_train"
   ]
  },
  {
   "cell_type": "markdown",
   "id": "df587703-6bbd-49db-9560-1466e7106d23",
   "metadata": {
    "tags": []
   },
   "source": [
    "## MultinomialNB"
   ]
  },
  {
   "cell_type": "code",
   "execution_count": 50,
   "id": "f5fe7d5d-aaa6-4716-90a8-b8f1ae2ced68",
   "metadata": {},
   "outputs": [],
   "source": [
    "# Instantiate a Multinomial Naive Bayes classifier: nb_classifier\n",
    "nb_classifier = MultinomialNB()"
   ]
  },
  {
   "cell_type": "markdown",
   "id": "bbc58b40-0b65-45ad-acd8-770137de5a68",
   "metadata": {
    "tags": []
   },
   "source": [
    "### With CountVectorizer data"
   ]
  },
  {
   "cell_type": "code",
   "execution_count": 51,
   "id": "e425a145-8326-4bf8-82a6-88d1f4a2c2f6",
   "metadata": {},
   "outputs": [
    {
     "name": "stdout",
     "output_type": "stream",
     "text": [
      "0.487090790048014\n"
     ]
    }
   ],
   "source": [
    "# Fit the classifier to the training data\n",
    "nb_classifier.fit(count_train, y_train)\n",
    "\n",
    "# Create the predicted tags: pred\n",
    "pred = nb_classifier.predict(count_test)\n",
    "\n",
    "# Calculate the accuracy score: score\n",
    "score = metrics.accuracy_score(y_test, pred)\n",
    "print(score)\n"
   ]
  },
  {
   "cell_type": "code",
   "execution_count": 52,
   "id": "97f835e2-8a2f-4c6e-8925-22a3d1c7aac5",
   "metadata": {},
   "outputs": [
    {
     "name": "stdout",
     "output_type": "stream",
     "text": [
      "Length of testing data:  91640\n",
      "accuracy_count :  44637\n",
      "accuracy_score :  0.487090790048014\n",
      "precision_score :  0.5819805926740711\n",
      "recall_score :  0.487090790048014\n"
     ]
    }
   ],
   "source": [
    "summarize_clf(y_test, pred)"
   ]
  },
  {
   "cell_type": "code",
   "execution_count": 54,
   "id": "7388eb6a-58ed-4347-925a-99fd9a8c86cf",
   "metadata": {},
   "outputs": [
    {
     "name": "stdout",
     "output_type": "stream",
     "text": [
      "Alpha:  0.0\n",
      "Score:  0.4753491924923614\n",
      "\n",
      "Alpha:  0.1\n",
      "Score:  0.5370253164556962\n",
      "\n",
      "Alpha:  0.2\n",
      "Score:  0.5369707551287647\n",
      "\n",
      "Alpha:  0.30000000000000004\n",
      "Score:  0.5319838498472282\n",
      "\n",
      "Alpha:  0.4\n",
      "Score:  0.5245744216499345\n",
      "\n",
      "Alpha:  0.5\n",
      "Score:  0.5172522915757312\n",
      "\n",
      "Alpha:  0.6000000000000001\n",
      "Score:  0.5108577040593627\n",
      "\n",
      "Alpha:  0.7000000000000001\n",
      "Score:  0.504746835443038\n",
      "\n",
      "Alpha:  0.8\n",
      "Score:  0.4983085988651244\n",
      "\n",
      "Alpha:  0.9\n",
      "Score:  0.49256874727193367\n",
      "\n"
     ]
    }
   ],
   "source": [
    "# Hyperparamete Tuning (Alpha)\n",
    "\n",
    "# Define train_and_predict()\n",
    "def train_and_predict(alpha, X_train, X_test):\n",
    "    # Instantiate the classifier\n",
    "    model = MultinomialNB(alpha= alpha)\n",
    "    # Fit to the training data\n",
    "    model.fit(X_train, y_train)\n",
    "    # Predict the labels: pred\n",
    "    pred = model.predict(X_test)\n",
    "    # Compute accuracy: score\n",
    "    score = metrics.accuracy_score(y_test, pred)\n",
    "    return score\n",
    "\n",
    "# Iterate over the alphas and print the corresponding score\n",
    "for alpha in alphas:\n",
    "    print('Alpha: ', alpha)\n",
    "    print('Score: ', train_and_predict(alpha, X_train= count_train, X_test= count_test))\n",
    "    print()"
   ]
  },
  {
   "cell_type": "markdown",
   "id": "9c3ef482-d1f5-4e3a-bcf1-09b585b28c51",
   "metadata": {},
   "source": [
    "We can see the best alpha is : **0.1 -> 53.7**"
   ]
  },
  {
   "cell_type": "markdown",
   "id": "284f05c5-f0c2-4d8a-9914-afcd509deda8",
   "metadata": {},
   "source": [
    "#### OneVsRest Multinomial Classifier"
   ]
  },
  {
   "cell_type": "code",
   "execution_count": 55,
   "id": "e6d5fd14-fbf2-4d1e-a6b5-e88ea2e39a77",
   "metadata": {},
   "outputs": [],
   "source": [
    "# Instantiate the model. \n",
    "ovr_nb_clf = OneVsRestClassifier(MultinomialNB())"
   ]
  },
  {
   "cell_type": "code",
   "execution_count": 56,
   "id": "9d84d48d-c16b-48b1-b628-099a41ec813e",
   "metadata": {},
   "outputs": [
    {
     "name": "stdout",
     "output_type": "stream",
     "text": [
      "0.5040375381929288\n",
      "Length of testing data:  91640\n",
      "accuracy_count :  46190\n",
      "accuracy_score :  0.5040375381929288\n",
      "precision_score :  0.5872773174941887\n",
      "recall_score :  0.5040375381929288\n"
     ]
    }
   ],
   "source": [
    "ovr_nb_clf.fit(count_train, y_train)\n",
    "\n",
    "# Create the predicted tags: pred\n",
    "pred = ovr_nb_clf.predict(count_test)\n",
    "\n",
    "# Calculate the accuracy score: score\n",
    "score = metrics.accuracy_score(y_test, pred)\n",
    "print(score)\n",
    "\n",
    "# Display the summary of Classifier\n",
    "summarize_clf(y_test, pred)"
   ]
  },
  {
   "cell_type": "code",
   "execution_count": 57,
   "id": "f2f7626e-7a80-4c65-bdbf-ae6c19416349",
   "metadata": {},
   "outputs": [
    {
     "name": "stdout",
     "output_type": "stream",
     "text": [
      "Alpha:  0.0\n",
      "Score:  0.47494543867306854\n",
      "\n",
      "Alpha:  0.1\n",
      "Score:  0.5434526407682235\n",
      "\n",
      "Alpha:  0.2\n",
      "Score:  0.5438782191182889\n",
      "\n",
      "Alpha:  0.30000000000000004\n",
      "Score:  0.5397206460061109\n",
      "\n",
      "Alpha:  0.4\n",
      "Score:  0.5345264076822348\n",
      "\n",
      "Alpha:  0.5\n",
      "Score:  0.5297577477084243\n",
      "\n",
      "Alpha:  0.6000000000000001\n",
      "Score:  0.5234286337843737\n",
      "\n",
      "Alpha:  0.7000000000000001\n",
      "Score:  0.5180161501527717\n",
      "\n",
      "Alpha:  0.8\n",
      "Score:  0.5130074203404626\n",
      "\n",
      "Alpha:  0.9\n",
      "Score:  0.5087298123090354\n",
      "\n"
     ]
    }
   ],
   "source": [
    "# Define train_and_predict()\n",
    "def train_and_predict(alpha, X_train, X_test):\n",
    "    # Instantiate the classifier\n",
    "    model = OneVsRestClassifier(MultinomialNB(alpha= alpha))\n",
    "    # Fit to the training data\n",
    "    model.fit(X_train, y_train)\n",
    "    # Predict the labels: pred\n",
    "    pred = model.predict(X_test)\n",
    "    # Compute accuracy: score\n",
    "    score = metrics.accuracy_score(y_test, pred)\n",
    "    return score\n",
    "\n",
    "# Iterate over the alphas and print the corresponding score\n",
    "for alpha in alphas:\n",
    "    print('Alpha: ', alpha)\n",
    "    print('Score: ', train_and_predict(alpha, X_train= count_train, X_test= count_test))\n",
    "    print()"
   ]
  },
  {
   "cell_type": "markdown",
   "id": "dc2536b2-e45b-4a8f-9ca5-7f13aceae175",
   "metadata": {},
   "source": [
    "Here we can see the best alpha changed to : **0.2 -> 54.38**"
   ]
  },
  {
   "cell_type": "markdown",
   "id": "d2b8f015-7794-4159-aeee-83eb0c53f183",
   "metadata": {
    "tags": []
   },
   "source": [
    "### With TF-IDF_train"
   ]
  },
  {
   "cell_type": "code",
   "execution_count": 59,
   "id": "c8cb8f9f-07af-4365-ac76-1933fb26e10f",
   "metadata": {},
   "outputs": [
    {
     "name": "stdout",
     "output_type": "stream",
     "text": [
      "0.39799214316892184\n"
     ]
    }
   ],
   "source": [
    "# Fit the classifier to the training data\n",
    "nb_classifier.fit(tfidf_train, y_train)\n",
    "\n",
    "# Create the predicted tags: pred\n",
    "pred = nb_classifier.predict(tfidf_test)\n",
    "\n",
    "# Calculate the accuracy score: score\n",
    "score = metrics.accuracy_score(y_test, pred)\n",
    "print(score)"
   ]
  },
  {
   "cell_type": "code",
   "execution_count": 60,
   "id": "625c6688-f523-4372-a359-98c9d9bcc2af",
   "metadata": {},
   "outputs": [
    {
     "name": "stdout",
     "output_type": "stream",
     "text": [
      "Length of testing data:  91640\n",
      "accuracy_count :  36472\n",
      "accuracy_score :  0.39799214316892184\n",
      "precision_score :  0.6335307121324141\n",
      "recall_score :  0.39799214316892184\n"
     ]
    }
   ],
   "source": [
    "# Display the summary of Classifier\n",
    "summarize_clf(y_test, pred)"
   ]
  },
  {
   "cell_type": "code",
   "execution_count": 61,
   "id": "ba3166a7-0be0-497b-9aa2-a442d6a619d3",
   "metadata": {},
   "outputs": [
    {
     "name": "stdout",
     "output_type": "stream",
     "text": [
      "Alpha:  0.0\n",
      "Score:  0.46377127891750325\n",
      "\n",
      "Alpha:  0.1\n",
      "Score:  0.5073330423395896\n",
      "\n",
      "Alpha:  0.2\n",
      "Score:  0.486348756001746\n",
      "\n",
      "Alpha:  0.30000000000000004\n",
      "Score:  0.4680379746835443\n",
      "\n",
      "Alpha:  0.4\n",
      "Score:  0.4524770842426888\n",
      "\n",
      "Alpha:  0.5\n",
      "Score:  0.4400043649061545\n",
      "\n",
      "Alpha:  0.6000000000000001\n",
      "Score:  0.4280554343081624\n",
      "\n",
      "Alpha:  0.7000000000000001\n",
      "Score:  0.4193910955914448\n",
      "\n",
      "Alpha:  0.8\n",
      "Score:  0.411239633347883\n",
      "\n",
      "Alpha:  0.9\n",
      "Score:  0.404190309908337\n",
      "\n"
     ]
    }
   ],
   "source": [
    "# Define train_and_predict()\n",
    "def train_and_predict(alpha, X_train, X_test):\n",
    "    # Instantiate the classifier\n",
    "    model = MultinomialNB(alpha= alpha)\n",
    "    # Fit to the training data\n",
    "    model.fit(X_train, y_train)\n",
    "    # Predict the labels: pred\n",
    "    pred = model.predict(X_test)\n",
    "    # Compute accuracy: score\n",
    "    score = metrics.accuracy_score(y_test, pred)\n",
    "    return score\n",
    "\n",
    "# Iterate over the alphas and print the corresponding score\n",
    "for alpha in alphas:\n",
    "    print('Alpha: ', alpha)\n",
    "    print('Score: ', train_and_predict(alpha, X_train= tfidf_train, X_test= tfidf_test))\n",
    "    print()"
   ]
  },
  {
   "cell_type": "markdown",
   "id": "9f8e0a99-21ca-49d2-bfe1-c780d85145a9",
   "metadata": {},
   "source": [
    "We can see the best alpha is : **0.1 -> 50.73**"
   ]
  },
  {
   "cell_type": "markdown",
   "id": "2b58987b-7f5c-4892-96f8-c5c88568e490",
   "metadata": {},
   "source": [
    "### OneVsRest  "
   ]
  },
  {
   "cell_type": "code",
   "execution_count": 62,
   "id": "59b02fda-acc1-4af8-adbc-fc95224cb6bb",
   "metadata": {},
   "outputs": [
    {
     "name": "stdout",
     "output_type": "stream",
     "text": [
      "0.4314818856394588\n",
      "Length of testing data:  91640\n",
      "accuracy_count :  39541\n",
      "accuracy_score :  0.4314818856394588\n",
      "precision_score :  0.62823549647778\n",
      "recall_score :  0.4314818856394588\n"
     ]
    }
   ],
   "source": [
    "ovr_nb_clf.fit(tfidf_train, y_train)\n",
    "\n",
    "# Create the predicted tags: pred\n",
    "pred = ovr_nb_clf.predict(tfidf_test)\n",
    "\n",
    "# Calculate the accuracy score: score\n",
    "score = metrics.accuracy_score(y_test, pred)\n",
    "print(score)\n",
    "\n",
    "# Display the summary of Classifier\n",
    "summarize_clf(y_test, pred)"
   ]
  },
  {
   "cell_type": "code",
   "execution_count": 63,
   "id": "a1380c9c-6e57-46fd-a592-c49ab67ec17f",
   "metadata": {},
   "outputs": [
    {
     "name": "stdout",
     "output_type": "stream",
     "text": [
      "Alpha:  0.0\n",
      "Score:  0.4598537756438237\n",
      "\n",
      "Alpha:  0.1\n",
      "Score:  0.5161065037101702\n",
      "\n",
      "Alpha:  0.2\n",
      "Score:  0.5018987341772152\n",
      "\n",
      "Alpha:  0.30000000000000004\n",
      "Score:  0.48864033173286775\n",
      "\n",
      "Alpha:  0.4\n",
      "Score:  0.4780226975120035\n",
      "\n",
      "Alpha:  0.5\n",
      "Score:  0.4676887821911829\n",
      "\n",
      "Alpha:  0.6000000000000001\n",
      "Score:  0.45877346137058056\n",
      "\n",
      "Alpha:  0.7000000000000001\n",
      "Score:  0.4505237887385421\n",
      "\n",
      "Alpha:  0.8\n",
      "Score:  0.4438018332605849\n",
      "\n",
      "Alpha:  0.9\n",
      "Score:  0.43753819292885204\n",
      "\n"
     ]
    }
   ],
   "source": [
    "# Define train_and_predict()\n",
    "def train_and_predict(alpha, X_train, X_test):\n",
    "    # Instantiate the classifier\n",
    "    model = OneVsRestClassifier(MultinomialNB(alpha= alpha))\n",
    "    # Fit to the training data\n",
    "    model.fit(X_train, y_train)\n",
    "    # Predict the labels: pred\n",
    "    pred = model.predict(X_test)\n",
    "    # Compute accuracy: score\n",
    "    score = metrics.accuracy_score(y_test, pred)\n",
    "    return score\n",
    "\n",
    "# Iterate over the alphas and print the corresponding score\n",
    "for alpha in alphas:\n",
    "    print('Alpha: ', alpha)\n",
    "    print('Score: ', train_and_predict(alpha, X_train= tfidf_train, X_test= tfidf_test))\n",
    "    print()"
   ]
  },
  {
   "cell_type": "markdown",
   "id": "a2040977-c88a-44d4-a1ea-c71b9e031d8a",
   "metadata": {},
   "source": [
    "Here we can see the best alpha changed to : **0.1 -> 51.61**"
   ]
  },
  {
   "cell_type": "markdown",
   "id": "9c013167-82e3-4a5f-bd98-e58c49caf1bd",
   "metadata": {},
   "source": [
    "### Improving the Classifier :\n",
    "\n",
    "- Tweaking alpha levels. **Done.**\n",
    "\n",
    "- Trying a new classification model. **Down..**\n",
    "\n",
    "- Training on a larger dataset.\n",
    "\n",
    "- Improving text preprocessing."
   ]
  },
  {
   "cell_type": "markdown",
   "id": "e5eca46c-7c97-4094-987e-00a7ae1268df",
   "metadata": {},
   "source": [
    "#### Trying a new classification models.."
   ]
  },
  {
   "cell_type": "code",
   "execution_count": 64,
   "id": "b3a9ef35-0438-4515-ae05-58e0d90c345e",
   "metadata": {},
   "outputs": [],
   "source": [
    "# Instantiate a Stochastic Gradiant Model.\n",
    "sgd_clf = SGDClassifier(random_state=seed, loss= 'hinge', penalty= 'l2')"
   ]
  },
  {
   "cell_type": "code",
   "execution_count": 65,
   "id": "2ec50182-1f92-4125-a1c2-591378fcc723",
   "metadata": {},
   "outputs": [
    {
     "name": "stdout",
     "output_type": "stream",
     "text": [
      "0.5082060235704933\n",
      "Length of testing data:  91640\n",
      "accuracy_count :  46572\n",
      "accuracy_score :  0.5082060235704933\n",
      "precision_score :  0.49397944788699305\n",
      "recall_score :  0.5082060235704933\n"
     ]
    }
   ],
   "source": [
    "# With Count_data\n",
    "\n",
    "# Fit the classifier to the training data\n",
    "sgd_clf.fit(count_train, y_train)\n",
    "\n",
    "# Create the predicted tags: pred\n",
    "pred = sgd_clf.predict(count_test)\n",
    "\n",
    "# Calculate the accuracy score: score\n",
    "score = metrics.accuracy_score(y_test, pred)\n",
    "print(score)\n",
    "\n",
    "# Display the summary of Classifier\n",
    "summarize_clf(y_test, pred)"
   ]
  },
  {
   "cell_type": "code",
   "execution_count": 66,
   "id": "a94f6e30-ff50-44c1-ba06-3672a8dc2d53",
   "metadata": {},
   "outputs": [
    {
     "name": "stdout",
     "output_type": "stream",
     "text": [
      "0.4951331296377128\n",
      "Length of testing data:  91640\n",
      "accuracy_count :  45374\n",
      "accuracy_score :  0.4951331296377128\n",
      "precision_score :  0.4836247067713672\n",
      "recall_score :  0.4951331296377128\n"
     ]
    }
   ],
   "source": [
    "# With TF-IDF_data\n",
    "\n",
    "# Fit the classifier to the training data\n",
    "sgd_clf.fit(tfidf_train, y_train)\n",
    "\n",
    "# Create the predicted tags: pred\n",
    "pred = sgd_clf.predict(tfidf_test)\n",
    "\n",
    "# Calculate the accuracy score: score\n",
    "score = metrics.accuracy_score(y_test, pred)\n",
    "print(score)\n",
    "\n",
    "# Display the summary of Classifier\n",
    "summarize_clf(y_test, pred)"
   ]
  },
  {
   "cell_type": "markdown",
   "id": "7b7ea25b-7a84-4349-86d4-c7fc04d46a45",
   "metadata": {},
   "source": [
    "# Summary \n",
    "After many testing with defferent Multiclass algorithms I can show the Multi-NB-OneOverRest is the best **Until Now...**"
   ]
  }
 ],
 "metadata": {
  "kernelspec": {
   "display_name": "Python 3",
   "language": "python",
   "name": "python3"
  },
  "language_info": {
   "codemirror_mode": {
    "name": "ipython",
    "version": 3
   },
   "file_extension": ".py",
   "mimetype": "text/x-python",
   "name": "python",
   "nbconvert_exporter": "python",
   "pygments_lexer": "ipython3",
   "version": "3.8.8"
  }
 },
 "nbformat": 4,
 "nbformat_minor": 5
}
